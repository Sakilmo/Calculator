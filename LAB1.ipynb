{
  "cells": [
    {
      "cell_type": "markdown",
      "metadata": {
        "id": "view-in-github",
        "colab_type": "text"
      },
      "source": [
        "<a href=\"https://colab.research.google.com/github/Sakilmo/Calculator/blob/main/LAB1.ipynb\" target=\"_parent\"><img src=\"https://colab.research.google.com/assets/colab-badge.svg\" alt=\"Open In Colab\"/></a>"
      ]
    },
    {
      "cell_type": "code",
      "execution_count": null,
      "metadata": {
        "id": "qkgATuq1CaSN"
      },
      "outputs": [],
      "source": [
        "import matplotlib.pyplot as plt\n",
        "import math\n",
        "import numpy as np"
      ]
    },
    {
      "cell_type": "code",
      "execution_count": null,
      "metadata": {
        "id": "Jbq9QvE8PJ-b"
      },
      "outputs": [],
      "source": [
        "def geometric(x, p):\n",
        "    '''\n",
        "    Function to plot a geometric distribution graph\n",
        "    params:\n",
        "        x: number of times the event does not occur before the first success (the trial number on which the first success occurs)\n",
        "        p: probability of an event occurring on each trial (probability of success). It must be a number between 0 and 1.\n",
        "    return: probability of success occurring on the x-th trial\n",
        "    '''\n",
        "    x = int(x)\n",
        "    if x < 1:\n",
        "        raise ValueError(\"The number must be positive!\")\n",
        "\n",
        "    if p < 0 and p > 1:\n",
        "        raise ValueError(\"The probability should be between 0 and 1\")\n",
        "\n",
        "    probability = (1 - p) ** (x - 1) * p\n",
        "    return probability"
      ]
    },
    {
      "cell_type": "code",
      "execution_count": null,
      "metadata": {
        "id": "wmlF_hEzPJ-d"
      },
      "outputs": [],
      "source": [
        "\n",
        "def uniform_distribution(low, high, size=1000, visualize=True):\n",
        "    \"\"\"\n",
        "    Generate and optionally visualize a uniform distribution.\n",
        "\n",
        "    Args:\n",
        "        low (float): Lower bound of the distribution.\n",
        "        high (float): Upper bound of the distribution.\n",
        "        size (int): Number of samples to generate. Default is 1000.\n",
        "        visualize (bool): Whether to visualize the distribution. Default is True.\n",
        "\n",
        "    Returns:\n",
        "        numpy.ndarray: Array of random samples from the uniform distribution.\n",
        "    \"\"\"\n",
        "    if low >= high:\n",
        "        raise ValueError(\"Lower bound (low) must be less than the upper bound (high).\")\n",
        "\n",
        "    # Generate uniform random samples\n",
        "    samples = np.random.uniform(low, high, size)\n",
        "\n",
        "    if visualize:\n",
        "        # Plot the histogram of the samples\n",
        "        plt.figure(figsize=(8, 6))\n",
        "        plt.hist(samples, bins=30, color='skyblue', edgecolor='black', density=True)\n",
        "        plt.title(f\"Uniform Distribution (low={low}, high={high})\")\n",
        "        plt.xlabel(\"Value\")\n",
        "        plt.ylabel(\"Density\")\n",
        "        plt.grid(True)\n",
        "        plt.show()\n",
        "\n",
        "    return samples\n",
        "\n",
        "# Example usage\n",
        "if __name__ == \"__main__\":\n",
        "    # Example parameters\n",
        "    lower_bound = float(input(\"Enter the lower bound (low): \"))\n",
        "    upper_bound = float(input(\"Enter the upper bound (high): \"))\n",
        "    num_samples = int(input(\"Enter the number of samples: \"))\n",
        "\n",
        "    # Generate and visualize uniform distribution\n",
        "    uniform_samples = uniform_distribution(lower_bound, upper_bound, num_samples)\n",
        "    print(f\"Generated {num_samples} samples from the uniform distribution.\")\n"
      ]
    }
  ],
  "metadata": {
    "colab": {
      "provenance": [],
      "include_colab_link": true
    },
    "kernelspec": {
      "display_name": "Python 3",
      "name": "python3"
    },
    "language_info": {
      "codemirror_mode": {
        "name": "ipython",
        "version": 3
      },
      "file_extension": ".py",
      "mimetype": "text/x-python",
      "name": "python",
      "nbconvert_exporter": "python",
      "pygments_lexer": "ipython3",
      "version": "3.12.7"
    }
  },
  "nbformat": 4,
  "nbformat_minor": 0
}